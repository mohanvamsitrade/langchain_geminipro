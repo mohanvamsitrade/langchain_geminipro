{
 "cells": [
  {
   "cell_type": "code",
   "execution_count": 1,
   "metadata": {},
   "outputs": [],
   "source": [
    "import os\n",
    "\n",
    "from new_secret_key import huggingface_key1\n",
    "\n",
    "os.environ[\"HUGGINGFACEHUB_API_TOKEN\"] = huggingface_key1"
   ]
  },
  {
   "cell_type": "code",
   "execution_count": null,
   "metadata": {},
   "outputs": [],
   "source": [
    "%pip install huggingface\n",
    "%pip install huggingface_hub"
   ]
  },
  {
   "cell_type": "code",
   "execution_count": 19,
   "metadata": {},
   "outputs": [],
   "source": [
    "from langchain.llms import HuggingFaceHub\n",
    "\n",
    "llm = HuggingFaceHub(repo_id = \"google/flan-t5-xxl\", model_kwargs= {'temperature':0.6,\"max_length\":64})"
   ]
  },
  {
   "cell_type": "code",
   "execution_count": 29,
   "metadata": {},
   "outputs": [
    {
     "name": "stdout",
     "output_type": "stream",
     "text": [
      "all the worlds you've seen are just a click away from you all you have to do is click away from that click away from that click away from that click away from that click away from that click away from that click away from that click away from that click away from that click away from that click away from that click away from that click away from that click away from that click away from that click away from that click away from that click away from that click away from that click away\n"
     ]
    }
   ],
   "source": [
    "text = \"can you write a poem about Artificial Intelligence\"\n",
    "\n",
    "print(llm.predict(text))"
   ]
  },
  {
   "cell_type": "code",
   "execution_count": 32,
   "metadata": {},
   "outputs": [
    {
     "data": {
      "text/plain": [
       "'Tell me the capital of India'"
      ]
     },
     "execution_count": 32,
     "metadata": {},
     "output_type": "execute_result"
    }
   ],
   "source": [
    "# Improting Prompt Template and Creating Prompts\n",
    "from langchain.prompts import PromptTemplate\n",
    "\n",
    "prompt_template = PromptTemplate(input_variables=[\"country\"], template=\"Tell me the capital of {country}\")\n",
    "\n",
    "prompt_template.format(country = \"India\")"
   ]
  },
  {
   "cell_type": "code",
   "execution_count": 33,
   "metadata": {},
   "outputs": [
    {
     "data": {
      "text/plain": [
       "'new delhi'"
      ]
     },
     "execution_count": 33,
     "metadata": {},
     "output_type": "execute_result"
    }
   ],
   "source": [
    "# Importing Langchains and creating Chains to use both llm model and prompt together    \n",
    "from langchain.chains import LLMChain\n",
    "\n",
    "chain1 = LLMChain(llm= llm, prompt= prompt_template)\n",
    "\n",
    "chain1.run('India')"
   ]
  }
 ],
 "metadata": {
  "kernelspec": {
   "display_name": "Python 3",
   "language": "python",
   "name": "python3"
  },
  "language_info": {
   "codemirror_mode": {
    "name": "ipython",
    "version": 3
   },
   "file_extension": ".py",
   "mimetype": "text/x-python",
   "name": "python",
   "nbconvert_exporter": "python",
   "pygments_lexer": "ipython3",
   "version": "3.11.7"
  }
 },
 "nbformat": 4,
 "nbformat_minor": 2
}
