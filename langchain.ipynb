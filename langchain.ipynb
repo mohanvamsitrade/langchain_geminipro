{
 "cells": [
  {
   "cell_type": "code",
   "execution_count": 1,
   "metadata": {},
   "outputs": [],
   "source": [
    "import os\n",
    "\n",
    "from new_secret_key import huggingface_key1\n",
    "\n",
    "os.environ[\"HUGGINGFACEHUB_API_TOKEN\"] = huggingface_key1"
   ]
  },
  {
   "cell_type": "code",
   "execution_count": null,
   "metadata": {},
   "outputs": [],
   "source": [
    "%pip install huggingface\n",
    "%pip install huggingface_hub"
   ]
  },
  {
   "cell_type": "code",
   "execution_count": 19,
   "metadata": {},
   "outputs": [],
   "source": [
    "from langchain.llms import HuggingFaceHub\n",
    "\n",
    "llm = HuggingFaceHub(repo_id = \"google/flan-t5-xxl\", model_kwargs= {'temperature':0.6,\"max_length\":64})"
   ]
  },
  {
   "cell_type": "code",
   "execution_count": 29,
   "metadata": {},
   "outputs": [
    {
     "name": "stdout",
     "output_type": "stream",
     "text": [
      "all the worlds you've seen are just a click away from you all you have to do is click away from that click away from that click away from that click away from that click away from that click away from that click away from that click away from that click away from that click away from that click away from that click away from that click away from that click away from that click away from that click away from that click away from that click away from that click away from that click away\n"
     ]
    }
   ],
   "source": [
    "text = \"can you write a poem about Artificial Intelligence\"\n",
    "\n",
    "print(llm.predict(text))"
   ]
  },
  {
   "cell_type": "markdown",
   "metadata": {},
   "source": [
    "Prompt Templates abd LLM Chain"
   ]
  },
  {
   "cell_type": "code",
   "execution_count": 32,
   "metadata": {},
   "outputs": [
    {
     "data": {
      "text/plain": [
       "'Tell me the capital of India'"
      ]
     },
     "execution_count": 32,
     "metadata": {},
     "output_type": "execute_result"
    }
   ],
   "source": [
    "# Improting Prompt Template and Creating Prompts\n",
    "from langchain.prompts import PromptTemplate\n",
    "\n",
    "prompt_template = PromptTemplate(input_variables=[\"country\"], template=\"Tell me the capital of {country}\")\n",
    "\n",
    "prompt_template.format(country = \"India\")"
   ]
  },
  {
   "cell_type": "code",
   "execution_count": 37,
   "metadata": {},
   "outputs": [
    {
     "data": {
      "text/plain": [
       "'new delhi'"
      ]
     },
     "execution_count": 37,
     "metadata": {},
     "output_type": "execute_result"
    }
   ],
   "source": [
    "# Importing Langchains and creating Chains to use both llm model and prompt together    \n",
    "from langchain.chains import LLMChain\n",
    "\n",
    "chain1 = LLMChain(llm= llm, prompt= prompt_template)\n",
    "\n",
    "chain1.run('India')"
   ]
  },
  {
   "cell_type": "code",
   "execution_count": 47,
   "metadata": {},
   "outputs": [],
   "source": [
    "name_prompt = PromptTemplate(input_variables=[\"country\"], template= \"what is the capital of  {country} \") \n",
    "menu_prompt = PromptTemplate(input_variables=[\"capital\"], template = \"Give me 3 best places to visit in {capital}\")\n",
    "\n",
    "name_chain = LLMChain(llm=llm, prompt= name_prompt, output_key=\"capital\")\n",
    "menu_chain = LLMChain(llm=llm, prompt= menu_prompt, output_key=\"best_places_to_visit\")"
   ]
  },
  {
   "cell_type": "code",
   "execution_count": 51,
   "metadata": {},
   "outputs": [],
   "source": [
    "from langchain.chains import SequentialChain\n",
    "\n",
    "places_to_visit = SequentialChain(chains=[name_chain,menu_chain], \n",
    "                                        input_variables=['country'],output_variables=['capital', 'best_places_to_visit'])"
   ]
  },
  {
   "cell_type": "code",
   "execution_count": 52,
   "metadata": {},
   "outputs": [
    {
     "data": {
      "text/plain": [
       "{'country': 'India',\n",
       " 'capital': 'New Delhi',\n",
       " 'best_places_to_visit': 'The Red Fort, the India Gate and the Rashtrapati Bhavan.'}"
      ]
     },
     "execution_count": 52,
     "metadata": {},
     "output_type": "execute_result"
    }
   ],
   "source": [
    "places_to_visit({'country':'India'})"
   ]
  },
  {
   "cell_type": "markdown",
   "metadata": {},
   "source": [
    "Chatmodels with ChatOpenAI"
   ]
  },
  {
   "cell_type": "code",
   "execution_count": 54,
   "metadata": {},
   "outputs": [],
   "source": [
    "# using \"Openchat\" open source model from Huggingface\n",
    "llm_chatmodel = HuggingFaceHub(repo_id=\"openchat/openchat\",model_kwargs={'temperature':0.6})"
   ]
  },
  {
   "cell_type": "code",
   "execution_count": 56,
   "metadata": {},
   "outputs": [],
   "source": [
    "from langchain.schema import HumanMessage, SystemMessage, AIMessage"
   ]
  },
  {
   "cell_type": "code",
   "execution_count": null,
   "metadata": {},
   "outputs": [],
   "source": []
  }
 ],
 "metadata": {
  "kernelspec": {
   "display_name": "Python 3",
   "language": "python",
   "name": "python3"
  },
  "language_info": {
   "codemirror_mode": {
    "name": "ipython",
    "version": 3
   },
   "file_extension": ".py",
   "mimetype": "text/x-python",
   "name": "python",
   "nbconvert_exporter": "python",
   "pygments_lexer": "ipython3",
   "version": "3.11.7"
  }
 },
 "nbformat": 4,
 "nbformat_minor": 2
}
